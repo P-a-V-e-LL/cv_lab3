{
  "nbformat": 4,
  "nbformat_minor": 0,
  "metadata": {
    "colab": {
      "provenance": []
    },
    "kernelspec": {
      "name": "python3",
      "display_name": "Python 3"
    },
    "accelerator": "GPU"
  },
  "cells": [
    {
      "cell_type": "code",
      "metadata": {
        "id": "ogDxKv-rhN0C",
        "colab": {
          "base_uri": "https://localhost:8080/"
        },
        "outputId": "801aa01a-ee62-4ece-ea5f-029448043cb4"
      },
      "source": [
        "from google.colab import drive\n",
        "drive.mount('/content/drive')#, force_remount=True)"
      ],
      "execution_count": 1,
      "outputs": [
        {
          "output_type": "stream",
          "name": "stdout",
          "text": [
            "Mounted at /content/drive\n"
          ]
        }
      ]
    },
    {
      "cell_type": "code",
      "source": [
        "import tensorflow as tf\n",
        "from tensorflow.keras.preprocessing.image import load_img, img_to_array"
      ],
      "metadata": {
        "id": "D5_aB4L7FAc_"
      },
      "execution_count": 2,
      "outputs": []
    },
    {
      "cell_type": "code",
      "source": [
        "import numpy as np\n",
        "import os\n",
        "!pip install memory_profiler\n",
        "from memory_profiler import memory_usage\n",
        "import time\n",
        "import psutil"
      ],
      "metadata": {
        "id": "rkhRlJPqM7zT",
        "colab": {
          "base_uri": "https://localhost:8080/"
        },
        "outputId": "b3581c9f-bfa9-4ffc-9278-ca2a78c5f86c"
      },
      "execution_count": 3,
      "outputs": [
        {
          "output_type": "stream",
          "name": "stdout",
          "text": [
            "Looking in indexes: https://pypi.org/simple, https://us-python.pkg.dev/colab-wheels/public/simple/\n",
            "Collecting memory_profiler\n",
            "  Downloading memory_profiler-0.61.0-py3-none-any.whl (31 kB)\n",
            "Requirement already satisfied: psutil in /usr/local/lib/python3.7/dist-packages (from memory_profiler) (5.4.8)\n",
            "Installing collected packages: memory-profiler\n",
            "Successfully installed memory-profiler-0.61.0\n"
          ]
        }
      ]
    },
    {
      "cell_type": "code",
      "source": [
        "f = memory_usage()"
      ],
      "metadata": {
        "id": "cKBn4zzpDjIn"
      },
      "execution_count": 4,
      "outputs": []
    },
    {
      "cell_type": "code",
      "source": [
        "vgg16 = tf.keras.applications.vgg16.VGG16(\n",
        "    include_top=True,\n",
        "    weights='imagenet',\n",
        "    input_tensor=None,\n",
        "    input_shape=None,\n",
        "    pooling=None,\n",
        "    classes=1000,\n",
        "    classifier_activation='softmax'\n",
        ")"
      ],
      "metadata": {
        "id": "urgIbAOuFAab",
        "colab": {
          "base_uri": "https://localhost:8080/"
        },
        "outputId": "317606c0-979b-4137-b589-585a8b0e77c7"
      },
      "execution_count": 5,
      "outputs": [
        {
          "output_type": "stream",
          "name": "stdout",
          "text": [
            "Downloading data from https://storage.googleapis.com/tensorflow/keras-applications/vgg16/vgg16_weights_tf_dim_ordering_tf_kernels.h5\n",
            "553467096/553467096 [==============================] - 19s 0us/step\n"
          ]
        }
      ]
    },
    {
      "cell_type": "code",
      "source": [
        "def vgg16_predict(image):\n",
        "  image = load_img(image, target_size=(224, 224))\n",
        "  image = img_to_array(image)\n",
        "  image = image.reshape((1, image.shape[0], image.shape[1], image.shape[2]))\n",
        "  image = tf.keras.applications.vgg16.preprocess_input(image)\n",
        "\n",
        "  label = tf.keras.applications.vgg16.decode_predictions(vgg16.predict(image))\n",
        "  label1 = label[0][0]\n",
        "  #print('%s (%.2f%%)' % (label1[1], label1[2]*100))\n",
        "  return label"
      ],
      "metadata": {
        "id": "qvbuJwnHIuQr"
      },
      "execution_count": 6,
      "outputs": []
    },
    {
      "cell_type": "code",
      "source": [],
      "metadata": {
        "id": "TBf8m9SDFAVH"
      },
      "execution_count": null,
      "outputs": []
    },
    {
      "cell_type": "code",
      "source": [
        "resnet50 = tf.keras.applications.resnet50.ResNet50(\n",
        "    include_top=True,\n",
        "    weights='imagenet',\n",
        "    input_tensor=None,\n",
        "    input_shape=None,\n",
        "    pooling=None,\n",
        "    classes=1000,\n",
        "    classifier_activation='softmax'\n",
        ")"
      ],
      "metadata": {
        "id": "BMWU9TDfFAQQ",
        "colab": {
          "base_uri": "https://localhost:8080/"
        },
        "outputId": "be86b0aa-d776-4f60-928d-e650d6f9384c"
      },
      "execution_count": 9,
      "outputs": [
        {
          "output_type": "stream",
          "name": "stdout",
          "text": [
            "Downloading data from https://storage.googleapis.com/tensorflow/keras-applications/resnet/resnet50_weights_tf_dim_ordering_tf_kernels.h5\n",
            "102967424/102967424 [==============================] - 5s 0us/step\n"
          ]
        }
      ]
    },
    {
      "cell_type": "code",
      "source": [
        "def resnet50_predict(image):\n",
        "  image = load_img(image, target_size=(224, 224))\n",
        "  image = img_to_array(image)\n",
        "  image = np.expand_dims(image, axis = 0)\n",
        "  image = tf.keras.applications.resnet50.preprocess_input(image)\n",
        "\n",
        "  label = tf.keras.applications.resnet50.decode_predictions(resnet50.predict(image))\n",
        "  label1 = label[0][0]\n",
        "  #print('%s (%.2f%%)' % (label1[1], label1[2]*100))\n",
        "  #print(label)\n",
        "  return label"
      ],
      "metadata": {
        "id": "25wxXGR9FANG"
      },
      "execution_count": 10,
      "outputs": []
    },
    {
      "cell_type": "code",
      "source": [
        "resnet50_predict(\"drive/MyDrive/Colab Notebooks/cv_lab3/armadillo/index.jpeg\")"
      ],
      "metadata": {
        "colab": {
          "base_uri": "https://localhost:8080/"
        },
        "id": "156RwJQ5FAKs",
        "outputId": "63260ef5-12d4-4aa4-d3f6-d9c9424df801"
      },
      "execution_count": 11,
      "outputs": [
        {
          "output_type": "stream",
          "name": "stdout",
          "text": [
            "1/1 [==============================] - 1s 1s/step\n"
          ]
        },
        {
          "output_type": "execute_result",
          "data": {
            "text/plain": [
              "[[('n02454379', 'armadillo', 0.9995795),\n",
              "  ('n01688243', 'frilled_lizard', 5.9008882e-05),\n",
              "  ('n13133613', 'ear', 4.3292705e-05),\n",
              "  ('n03980874', 'poncho', 4.236992e-05),\n",
              "  ('n01797886', 'ruffed_grouse', 2.5804777e-05)]]"
            ]
          },
          "metadata": {},
          "execution_count": 11
        }
      ]
    },
    {
      "cell_type": "code",
      "source": [],
      "metadata": {
        "id": "Z1qYE0MlFAIT"
      },
      "execution_count": null,
      "outputs": []
    },
    {
      "cell_type": "code",
      "source": [
        "inceptionv3 = tf.keras.applications.inception_v3.InceptionV3(\n",
        "    include_top=True,\n",
        "    weights='imagenet',\n",
        "    input_tensor=None,\n",
        "    input_shape=None,\n",
        "    pooling=None,\n",
        "    classes=1000,\n",
        "    classifier_activation='softmax'\n",
        ")"
      ],
      "metadata": {
        "colab": {
          "base_uri": "https://localhost:8080/"
        },
        "id": "YogG1fpPFAF2",
        "outputId": "d6653745-8e71-4468-def2-d52b6f8460fc"
      },
      "execution_count": 5,
      "outputs": [
        {
          "output_type": "stream",
          "name": "stdout",
          "text": [
            "Downloading data from https://storage.googleapis.com/tensorflow/keras-applications/inception_v3/inception_v3_weights_tf_dim_ordering_tf_kernels.h5\n",
            "96112376/96112376 [==============================] - 5s 0us/step\n"
          ]
        }
      ]
    },
    {
      "cell_type": "code",
      "source": [
        "def inceptionv3_predict(image):\n",
        "  image = load_img(image, target_size=(299, 299))\n",
        "  #image = image.resize((299, 299))\n",
        "  image = img_to_array(image)\n",
        "  image = np.expand_dims(image, axis = 0)\n",
        "  image = tf.keras.applications.inception_v3.preprocess_input(image)\n",
        "\n",
        "  label = tf.keras.applications.inception_v3.decode_predictions(inceptionv3.predict(image))\n",
        "  label1 = label[0][0]\n",
        "  #print('%s (%.2f%%)' % (label1[1], label1[2]*100))\n",
        "  #print(label)\n",
        "  return label"
      ],
      "metadata": {
        "id": "PNUcZKflNpCf"
      },
      "execution_count": 6,
      "outputs": []
    },
    {
      "cell_type": "code",
      "source": [
        "inceptionv3_predict(\"drive/MyDrive/Colab Notebooks/cv_lab3/dog.jpg\")"
      ],
      "metadata": {
        "colab": {
          "base_uri": "https://localhost:8080/"
        },
        "id": "Q15qoz6WNo9g",
        "outputId": "5d757c3c-08c1-42d2-bffa-9e820f07d42d"
      },
      "execution_count": null,
      "outputs": [
        {
          "output_type": "stream",
          "name": "stdout",
          "text": [
            "1/1 [==============================] - 0s 25ms/step\n",
            "golden_retriever (19.00%)\n"
          ]
        },
        {
          "output_type": "execute_result",
          "data": {
            "text/plain": [
              "[[('n02099601', 'golden_retriever', 0.19001369),\n",
              "  ('n02099267', 'flat-coated_retriever', 0.15622246),\n",
              "  ('n02101388', 'Brittany_spaniel', 0.11531091),\n",
              "  ('n02099849', 'Chesapeake_Bay_retriever', 0.06998564),\n",
              "  ('n04409515', 'tennis_ball', 0.04854801)]]"
            ]
          },
          "metadata": {},
          "execution_count": 103
        }
      ]
    },
    {
      "cell_type": "code",
      "source": [],
      "metadata": {
        "id": "eEOm-8ctFADf"
      },
      "execution_count": null,
      "outputs": []
    },
    {
      "cell_type": "code",
      "source": [
        "top1 = 0\n",
        "top5 = 0\n",
        "start = time.time()\n",
        "for cl in os.listdir(\"drive/MyDrive/Colab Notebooks/cv_lab3\"):\n",
        "  img = os.path.join(\"drive/MyDrive/Colab Notebooks/cv_lab3\", cl)\n",
        "  for image in os.listdir(img):\n",
        "    result = resnet50_predict(os.path.join(img, image))\n",
        "    if cl == result[0][0][1]:\n",
        "      top1 += 1\n",
        "    if cl in [result[0][i][1] for i in range(5)]:\n",
        "      top5 += 1\n",
        "end = time.time()"
      ],
      "metadata": {
        "id": "9rUXSj7_OOPh"
      },
      "execution_count": null,
      "outputs": []
    },
    {
      "cell_type": "code",
      "source": [
        "print(\"Top 1 for Resnet50 = \", top1/50)\n",
        "print(\"Top 5 for Resnet50 = \", top5/50)\n",
        "print(\"Time for Resnet50 = \", (end-start)/50)\n",
        "print(\"Memoru usage for ResNet50\", memory_usage()[0] - f[0])"
      ],
      "metadata": {
        "id": "VZyBSvnGOOMr",
        "colab": {
          "base_uri": "https://localhost:8080/"
        },
        "outputId": "9b40f12c-4e89-450b-b006-2a694f8cea1b"
      },
      "execution_count": 8,
      "outputs": [
        {
          "output_type": "stream",
          "name": "stdout",
          "text": [
            "Top 1 for Resnet50 =  0.68\n",
            "Top 5 for Resnet50 =  0.96\n",
            "Time for Resnet50 =  1.2345773649215699\n",
            "Memoru usage for ResNet50 2377.52734375\n"
          ]
        }
      ]
    },
    {
      "cell_type": "code",
      "source": [
        "top1 = 0\n",
        "top5 = 0\n",
        "start = time.time()\n",
        "for cl in os.listdir(\"drive/MyDrive/Colab Notebooks/cv_lab3\"):\n",
        "  img = os.path.join(\"drive/MyDrive/Colab Notebooks/cv_lab3\", cl)\n",
        "  for image in os.listdir(img):\n",
        "    result = inceptionv3_predict(os.path.join(img, image))\n",
        "    if cl == result[0][0][1]:\n",
        "      top1 += 1\n",
        "    if cl in [result[0][i][1] for i in range(5)]:\n",
        "      top5 += 1\n",
        "end = time.time()"
      ],
      "metadata": {
        "id": "8AutB9S4UQk2"
      },
      "execution_count": null,
      "outputs": []
    },
    {
      "cell_type": "code",
      "source": [
        "print(\"Top 1 for Inception V3 = \", top1/50)\n",
        "print(\"Top 5 for Inception V3 = \", top5/50)\n",
        "print(\"Time for Inception V3 = \", (end-start)/50)\n",
        "print(\"Memoru usage for Inception V3\", memory_usage()[0] - f[0])"
      ],
      "metadata": {
        "colab": {
          "base_uri": "https://localhost:8080/"
        },
        "id": "lg17IP9W9f_z",
        "outputId": "35b23387-6fb1-4c52-88d3-d89103a85e57"
      },
      "execution_count": 8,
      "outputs": [
        {
          "output_type": "stream",
          "name": "stdout",
          "text": [
            "Top 1 for Inception V3 =  0.84\n",
            "Top 5 for Inception V3 =  1.0\n",
            "Time for Inception V3 =  0.9257718706130982\n",
            "Memoru usage for Inception V3 2264.859375\n"
          ]
        }
      ]
    },
    {
      "cell_type": "code",
      "source": [
        "top1 = 0\n",
        "top5 = 0\n",
        "start = time.time()\n",
        "for cl in os.listdir(\"drive/MyDrive/Colab Notebooks/cv_lab3\"):\n",
        "  img = os.path.join(\"drive/MyDrive/Colab Notebooks/cv_lab3\", cl)\n",
        "  for image in os.listdir(img):\n",
        "    result = vgg16_predict(os.path.join(img, image))\n",
        "    if cl == result[0][0][1]:\n",
        "      top1 += 1\n",
        "    if cl in [result[0][i][1] for i in range(5)]:\n",
        "      top5 += 1\n",
        "end = time.time()"
      ],
      "metadata": {
        "id": "C5P4HosE9f8-"
      },
      "execution_count": null,
      "outputs": []
    },
    {
      "cell_type": "code",
      "source": [
        "print(\"Top 1 for VGG16 = \", top1/50)\n",
        "print(\"Top 5 for VGG16 = \", top5/50)\n",
        "print(\"Time for VGG16 = \", (end-start)/50)\n",
        "print(\"Memoru usage for VGG16\", memory_usage()[0] - f[0])"
      ],
      "metadata": {
        "colab": {
          "base_uri": "https://localhost:8080/"
        },
        "id": "KmLs9qFz9f62",
        "outputId": "efcebe86-66e2-4b3e-d74a-6f18cd51588c"
      },
      "execution_count": 8,
      "outputs": [
        {
          "output_type": "stream",
          "name": "stdout",
          "text": [
            "Top 1 for VGG16 =  0.64\n",
            "Top 5 for VGG16 =  0.96\n",
            "Time for VGG16 =  0.667062611579895\n",
            "Memoru usage for VGG16 2322.5390625\n"
          ]
        }
      ]
    }
  ]
}